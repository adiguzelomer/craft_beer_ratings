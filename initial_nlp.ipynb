{
 "cells": [
  {
   "cell_type": "markdown",
   "metadata": {},
   "source": [
    "# Initial NLP"
   ]
  },
  {
   "cell_type": "code",
   "execution_count": 21,
   "metadata": {},
   "outputs": [],
   "source": [
    "import src.nlp as nlp\n",
    "import src.create_nmf as c_nmf\n",
    "import numpy as np\n",
    "import pandas as pd\n",
    "import matplotlib.pyplot as plt\n",
    "%matplotlib inline\n",
    "import re\n",
    "from sklearn.feature_extraction.text import TfidfVectorizer\n",
    "from sklearn.decomposition import TruncatedSVD, NMF\n",
    "from pprint import pprint\n",
    "\n",
    "import pickle"
   ]
  },
  {
   "cell_type": "markdown",
   "metadata": {},
   "source": [
    "Let's load the our two datasets."
   ]
  },
  {
   "cell_type": "code",
   "execution_count": 5,
   "metadata": {},
   "outputs": [],
   "source": [
    "beer_sample, reviews_sample = c_nmf.load_data('data/beers.csv', 'data/reviews.csv', 50)"
   ]
  },
  {
   "cell_type": "code",
   "execution_count": 6,
   "metadata": {},
   "outputs": [
    {
     "name": "stdout",
     "output_type": "stream",
     "text": [
      "<class 'pandas.core.frame.DataFrame'>\n",
      "RangeIndex: 50 entries, 0 to 49\n",
      "Data columns (total 16 columns):\n",
      "abv                    49 non-null float64\n",
      "beer                   50 non-null object\n",
      "beer_url               50 non-null object\n",
      "brewery                50 non-null object\n",
      "brewery_profile_url    50 non-null object\n",
      "gots                   50 non-null float64\n",
      "note                   50 non-null object\n",
      "pdev                   50 non-null float64\n",
      "rank                   49 non-null float64\n",
      "rating                 50 non-null float64\n",
      "ratings_count          50 non-null float64\n",
      "review_count           50 non-null float64\n",
      "style                  50 non-null object\n",
      "trade                  50 non-null float64\n",
      "wants                  50 non-null float64\n",
      "review_id              50 non-null object\n",
      "dtypes: float64(9), object(7)\n",
      "memory usage: 6.3+ KB\n",
      "None\n",
      "<class 'pandas.core.frame.DataFrame'>\n",
      "RangeIndex: 3384 entries, 0 to 3383\n",
      "Data columns (total 11 columns):\n",
      "author        3384 non-null object\n",
      "beer          3384 non-null object\n",
      "feel          3359 non-null float64\n",
      "look          3359 non-null float64\n",
      "overall       3359 non-null float64\n",
      "review_id     3384 non-null object\n",
      "smell         3359 non-null float64\n",
      "taste         3359 non-null float64\n",
      "text          3384 non-null object\n",
      "brew_beer     3384 non-null object\n",
      "review_num    3384 non-null int64\n",
      "dtypes: float64(5), int64(1), object(5)\n",
      "memory usage: 290.9+ KB\n",
      "None\n"
     ]
    }
   ],
   "source": [
    "print(beer_sample.info())\n",
    "print(reviews_sample.info())"
   ]
  },
  {
   "cell_type": "markdown",
   "metadata": {},
   "source": [
    "Since our datasets are so large, it's going to be a bit tedious to work with all the data at once for this initial pass. So, let's sample 1000 beers. We'll use all of the reviews associated with these beers."
   ]
  },
  {
   "cell_type": "markdown",
   "metadata": {},
   "source": [
    "As you can see, we have two beers with the same name. Fortunately, they are differentiated by brewery.\n",
    "\n",
    "Let's generate the review_id's associated with our beer sample. We can use these id's to get to the correct reviews."
   ]
  },
  {
   "cell_type": "markdown",
   "metadata": {},
   "source": [
    "Let's reindex both of our sample dataframes. This will be useful later when we need to interpet the results of SVD and NMF. We'll keep the current index as a column. This might be useful if we need to reference the index of the full dataframe for some reason."
   ]
  },
  {
   "cell_type": "markdown",
   "metadata": {},
   "source": [
    "## Document Cleaning"
   ]
  },
  {
   "cell_type": "code",
   "execution_count": 26,
   "metadata": {},
   "outputs": [],
   "source": [
    "documents = reviews_sample['text'].values\n",
    "documents = nlp.clean_documents(documents)"
   ]
  },
  {
   "cell_type": "markdown",
   "metadata": {},
   "source": [
    "Let's go ahead and remove the punctation and stopwords from our documents."
   ]
  },
  {
   "cell_type": "code",
   "execution_count": 27,
   "metadata": {},
   "outputs": [
    {
     "data": {
      "text/plain": [
       "'12 ount bottl pour pint glass pour dark brown col almost 2 fing head nic lac hop malt pres accentu coff bit chocol aroma chocol malt flav first follow mild hop hid alcohol wel med body smoo light mod carbon extrem wel bal perfect styl ip fan gre opt wint month definit buy'"
      ]
     },
     "execution_count": 27,
     "metadata": {},
     "output_type": "execute_result"
    }
   ],
   "source": [
    "documents[0]"
   ]
  },
  {
   "cell_type": "markdown",
   "metadata": {},
   "source": [
    "And, now we can stem these words."
   ]
  },
  {
   "cell_type": "markdown",
   "metadata": {},
   "source": [
    "And now let's feed these documents into our tf-idf vectorizer."
   ]
  },
  {
   "cell_type": "code",
   "execution_count": 50,
   "metadata": {},
   "outputs": [],
   "source": [
    "tf_idf_vec = TfidfVectorizer(max_df=.95, max_features=5000)"
   ]
  },
  {
   "cell_type": "code",
   "execution_count": 51,
   "metadata": {},
   "outputs": [],
   "source": [
    "doc_term = tf_idf_vec.fit_transform(documents)"
   ]
  },
  {
   "cell_type": "code",
   "execution_count": 52,
   "metadata": {},
   "outputs": [
    {
     "data": {
      "text/plain": [
       "['00',\n",
       " '01',\n",
       " '02',\n",
       " '03',\n",
       " '04',\n",
       " '05',\n",
       " '06',\n",
       " '07',\n",
       " '08',\n",
       " '09',\n",
       " '10',\n",
       " '100',\n",
       " '1000',\n",
       " '10000',\n",
       " '1001',\n",
       " '100th',\n",
       " '10oz',\n",
       " '11',\n",
       " '12',\n",
       " '12er',\n",
       " '12oz',\n",
       " '13',\n",
       " '14',\n",
       " '1417',\n",
       " '15',\n",
       " '15th',\n",
       " '16',\n",
       " '16oz',\n",
       " '17',\n",
       " '17th',\n",
       " '18',\n",
       " '18th',\n",
       " '19',\n",
       " '19th',\n",
       " '1cm',\n",
       " '1l',\n",
       " '1pt',\n",
       " '1st',\n",
       " '20',\n",
       " '2000',\n",
       " '2001',\n",
       " '2002',\n",
       " '2003',\n",
       " '2004',\n",
       " '2005',\n",
       " '2006',\n",
       " '2007',\n",
       " '2008',\n",
       " '2009',\n",
       " '2010',\n",
       " '2011',\n",
       " '2012',\n",
       " '2013',\n",
       " '2014',\n",
       " '2015',\n",
       " '2016',\n",
       " '2017',\n",
       " '2018',\n",
       " '2019',\n",
       " '20oz',\n",
       " '21',\n",
       " '22',\n",
       " '22oz',\n",
       " '23',\n",
       " '24',\n",
       " '25',\n",
       " '250',\n",
       " '250ml',\n",
       " '25cl',\n",
       " '25oz',\n",
       " '26',\n",
       " '27',\n",
       " '28',\n",
       " '29',\n",
       " '2nd',\n",
       " '2oz',\n",
       " '30',\n",
       " '300',\n",
       " '31',\n",
       " '312',\n",
       " '32',\n",
       " '33',\n",
       " '330',\n",
       " '330ml',\n",
       " '33cl',\n",
       " '35',\n",
       " '355',\n",
       " '355ml',\n",
       " '36',\n",
       " '375ml',\n",
       " '39',\n",
       " '3f',\n",
       " '3rd',\n",
       " '40',\n",
       " '42',\n",
       " '45',\n",
       " '47',\n",
       " '473',\n",
       " '473ml',\n",
       " '48',\n",
       " '48oz',\n",
       " '49',\n",
       " '4oz',\n",
       " '4pk',\n",
       " '4th',\n",
       " '50',\n",
       " '500',\n",
       " '500ml',\n",
       " '50cl',\n",
       " '55',\n",
       " '58',\n",
       " '59',\n",
       " '5l',\n",
       " '5oz',\n",
       " '5th',\n",
       " '60',\n",
       " '65',\n",
       " '650',\n",
       " '650ml',\n",
       " '66',\n",
       " '666',\n",
       " '672',\n",
       " '6er',\n",
       " '6oz',\n",
       " '6pack',\n",
       " '70',\n",
       " '75',\n",
       " '750',\n",
       " '750ml',\n",
       " '75cl',\n",
       " '79',\n",
       " '80',\n",
       " '8217',\n",
       " '83',\n",
       " '85',\n",
       " '8oz',\n",
       " '90',\n",
       " '94',\n",
       " '95',\n",
       " '99',\n",
       " '9oz',\n",
       " '___',\n",
       " 'aal',\n",
       " 'ab',\n",
       " 'abarwithnonam',\n",
       " 'abbay',\n",
       " 'abbey',\n",
       " 'abit',\n",
       " 'abl',\n",
       " 'able',\n",
       " 'abound',\n",
       " 'above',\n",
       " 'abq',\n",
       " 'abras',\n",
       " 'abrupt',\n",
       " 'abs',\n",
       " 'absolv',\n",
       " 'absorb',\n",
       " 'absurd',\n",
       " 'abt',\n",
       " 'abund',\n",
       " 'abv',\n",
       " 'ac',\n",
       " 'acc',\n",
       " 'acceiv',\n",
       " 'accentu',\n",
       " 'access',\n",
       " 'acclim',\n",
       " 'accompany',\n",
       " 'accompl',\n",
       " 'accord',\n",
       " 'account',\n",
       " 'accum',\n",
       " 'accustom',\n",
       " 'acet',\n",
       " 'aceton',\n",
       " 'achiev',\n",
       " 'achouff',\n",
       " 'acid',\n",
       " 'acknowledg',\n",
       " 'acquir',\n",
       " 'acrid',\n",
       " 'across',\n",
       " 'act',\n",
       " 'ad',\n",
       " 'adam',\n",
       " 'adams',\n",
       " 'addict',\n",
       " 'addit',\n",
       " 'adequ',\n",
       " 'adject',\n",
       " 'adjunct',\n",
       " 'adjust',\n",
       " 'admir',\n",
       " 'admit',\n",
       " 'adorn',\n",
       " 'adr',\n",
       " 'adult',\n",
       " 'adv',\n",
       " 'advert',\n",
       " 'advoc',\n",
       " 'aer',\n",
       " 'aesthet',\n",
       " 'af',\n",
       " 'affair',\n",
       " 'affect',\n",
       " 'afford',\n",
       " 'aficionado',\n",
       " 'afraid',\n",
       " 'after',\n",
       " 'afternoon',\n",
       " 'aftertast',\n",
       " 'aftertaste',\n",
       " 'afterthought',\n",
       " 'afterton',\n",
       " 'afterward',\n",
       " 'ag',\n",
       " 'again',\n",
       " 'age',\n",
       " 'aged',\n",
       " 'aggress',\n",
       " 'aggressive',\n",
       " 'aging',\n",
       " 'agit',\n",
       " 'ago',\n",
       " 'agr',\n",
       " 'agree',\n",
       " 'agress',\n",
       " 'ah',\n",
       " 'ahead',\n",
       " 'ahh',\n",
       " 'ahhh',\n",
       " 'aid',\n",
       " 'aim',\n",
       " 'aip',\n",
       " 'air',\n",
       " 'airport',\n",
       " 'airy',\n",
       " 'ak',\n",
       " 'akin',\n",
       " 'al',\n",
       " 'ala',\n",
       " 'alask',\n",
       " 'alb',\n",
       " 'albany',\n",
       " 'albeit',\n",
       " 'albert',\n",
       " 'albuquerqu',\n",
       " 'alc',\n",
       " 'alchohol',\n",
       " 'alchol',\n",
       " 'alcoho',\n",
       " 'alcohol',\n",
       " 'alcoholic',\n",
       " 'ale',\n",
       " 'alew',\n",
       " 'align',\n",
       " 'alik',\n",
       " 'alittl',\n",
       " 'all',\n",
       " 'allagash',\n",
       " 'alley',\n",
       " 'allow',\n",
       " 'allsp',\n",
       " 'allspice',\n",
       " 'almond',\n",
       " 'almost',\n",
       " 'alon',\n",
       " 'along',\n",
       " 'alongsid',\n",
       " 'alot',\n",
       " 'alph',\n",
       " 'alpin',\n",
       " 'already',\n",
       " 'alright',\n",
       " 'also',\n",
       " 'alt',\n",
       " 'altby',\n",
       " 'altern',\n",
       " 'although',\n",
       " 'altitud',\n",
       " 'altogeth',\n",
       " 'alumin',\n",
       " 'alway',\n",
       " 'am',\n",
       " 'amalgam',\n",
       " 'amarillo',\n",
       " 'amaz',\n",
       " 'amb',\n",
       " 'amber',\n",
       " 'ambr',\n",
       " 'americ',\n",
       " 'american',\n",
       " 'amidst',\n",
       " 'among',\n",
       " 'amongst',\n",
       " 'amount',\n",
       " 'amp',\n",
       " 'ampl',\n",
       " 'amsterdam',\n",
       " 'amus',\n",
       " 'an',\n",
       " 'analys',\n",
       " 'anch',\n",
       " 'and',\n",
       " 'angel',\n",
       " 'angl',\n",
       " 'angry',\n",
       " 'anheus',\n",
       " 'anheuser',\n",
       " 'anim',\n",
       " 'anisee',\n",
       " 'annivers',\n",
       " 'anno',\n",
       " 'annount',\n",
       " 'annoy',\n",
       " 'anoth',\n",
       " 'another',\n",
       " 'answ',\n",
       " 'ant',\n",
       " 'anticip',\n",
       " 'antwerp',\n",
       " 'anxy',\n",
       " 'anyhow',\n",
       " 'anym',\n",
       " 'anyon',\n",
       " 'anyth',\n",
       " 'anytim',\n",
       " 'anyway',\n",
       " 'anywh',\n",
       " 'ap',\n",
       " 'apa',\n",
       " 'apart',\n",
       " 'aplenty',\n",
       " 'apolog',\n",
       " 'app',\n",
       " 'appear',\n",
       " 'appearance',\n",
       " 'appet',\n",
       " 'appl',\n",
       " 'applaud',\n",
       " 'apple',\n",
       " 'appleb',\n",
       " 'appley',\n",
       " 'apply',\n",
       " 'apprecy',\n",
       " 'approach',\n",
       " 'appropry',\n",
       " 'approv',\n",
       " 'approx',\n",
       " 'approxim',\n",
       " 'apr',\n",
       " 'apricot',\n",
       " 'april',\n",
       " 'apt',\n",
       " 'ar',\n",
       " 'arc',\n",
       " 'arch',\n",
       " 'arden',\n",
       " 'are',\n",
       " 'area',\n",
       " 'aren',\n",
       " 'argu',\n",
       " 'arid',\n",
       " 'arm',\n",
       " 'armsby',\n",
       " 'arom',\n",
       " 'aroma',\n",
       " 'around',\n",
       " 'arrang',\n",
       " 'array',\n",
       " 'art',\n",
       " 'artic',\n",
       " 'artwork',\n",
       " 'as',\n",
       " 'ash',\n",
       " 'ashy',\n",
       " 'asid',\n",
       " 'ask',\n",
       " 'aslin',\n",
       " 'asparag',\n",
       " 'aspect',\n",
       " 'aspirin',\n",
       " 'ass',\n",
       " 'assault',\n",
       " 'assert',\n",
       " 'assess',\n",
       " 'assist',\n",
       " 'assocy',\n",
       " 'assort',\n",
       " 'assum',\n",
       " 'ast',\n",
       " 'aston',\n",
       " 'astringent',\n",
       " 'aswel',\n",
       " 'at',\n",
       " 'atl',\n",
       " 'atlant',\n",
       " 'atmosph',\n",
       " 'atop',\n",
       " 'attach',\n",
       " 'attack',\n",
       " 'attain',\n",
       " 'attempt',\n",
       " 'attend',\n",
       " 'attenu',\n",
       " 'attenuated',\n",
       " 'attract',\n",
       " 'attribut',\n",
       " 'au',\n",
       " 'auburn',\n",
       " 'aud',\n",
       " 'aug',\n",
       " 'august',\n",
       " 'aur',\n",
       " 'auroch',\n",
       " 'austin',\n",
       " 'austral',\n",
       " 'auth',\n",
       " 'autumn',\n",
       " 'av',\n",
       " 'avail',\n",
       " 'avenu',\n",
       " 'average',\n",
       " 'avid',\n",
       " 'avoid',\n",
       " 'aw',\n",
       " 'await',\n",
       " 'awak',\n",
       " 'award',\n",
       " 'away',\n",
       " 'awesom',\n",
       " 'awhil',\n",
       " 'awkward',\n",
       " 'ax',\n",
       " 'ay',\n",
       " 'az',\n",
       " 'ba',\n",
       " 'baby',\n",
       " 'back',\n",
       " 'backbon',\n",
       " 'backdrop',\n",
       " 'backend',\n",
       " 'background',\n",
       " 'backlight',\n",
       " 'backlit',\n",
       " 'backs',\n",
       " 'backsid',\n",
       " 'backwood',\n",
       " 'backyard',\n",
       " 'bacon',\n",
       " 'bacter',\n",
       " 'bad',\n",
       " 'bag',\n",
       " 'bak',\n",
       " 'baked',\n",
       " 'bakery',\n",
       " 'bal',\n",
       " 'balanced',\n",
       " 'balaton',\n",
       " 'ballast',\n",
       " 'balloon',\n",
       " 'ballpark',\n",
       " 'balsam',\n",
       " 'balt',\n",
       " 'bamberg',\n",
       " 'banan',\n",
       " 'banana',\n",
       " 'banann',\n",
       " 'band',\n",
       " 'bang',\n",
       " 'bank',\n",
       " 'bannan',\n",
       " 'bar',\n",
       " 'barbecu',\n",
       " 'barest',\n",
       " 'bargain',\n",
       " 'bark',\n",
       " 'barley',\n",
       " 'barleywin',\n",
       " 'barn',\n",
       " 'barnburn',\n",
       " 'barnyard',\n",
       " 'barock',\n",
       " 'barrel',\n",
       " 'bartend',\n",
       " 'bas',\n",
       " 'basc',\n",
       " 'based',\n",
       " 'baselin',\n",
       " 'bash',\n",
       " 'basil',\n",
       " 'basket',\n",
       " 'bass',\n",
       " 'bastard',\n",
       " 'bat',\n",
       " 'batch',\n",
       " 'bath',\n",
       " 'batm',\n",
       " 'battl',\n",
       " 'bav',\n",
       " 'bavar',\n",
       " 'bay',\n",
       " 'bb',\n",
       " 'bba',\n",
       " 'bbc',\n",
       " 'bbd',\n",
       " 'bbe',\n",
       " 'bbq',\n",
       " 'bc',\n",
       " 'bcbs',\n",
       " 'be',\n",
       " 'beach',\n",
       " 'bead',\n",
       " 'beaded',\n",
       " 'beam',\n",
       " 'bean',\n",
       " 'bear',\n",
       " 'beast',\n",
       " 'beat',\n",
       " 'beau',\n",
       " 'beautiful',\n",
       " 'beauty',\n",
       " 'becam',\n",
       " 'beck',\n",
       " 'becom',\n",
       " 'bed',\n",
       " 'bee',\n",
       " 'beef',\n",
       " 'beefy',\n",
       " 'beer',\n",
       " 'beeradvoc',\n",
       " 'beers',\n",
       " 'beery',\n",
       " 'beet',\n",
       " 'befit',\n",
       " 'before',\n",
       " 'beg',\n",
       " 'begby',\n",
       " 'begin',\n",
       " 'behav',\n",
       " 'behind',\n",
       " 'behold',\n",
       " 'beig',\n",
       " 'beige',\n",
       " 'bel',\n",
       " 'belg',\n",
       " 'belgain',\n",
       " 'belgian',\n",
       " 'belgiany',\n",
       " 'believ',\n",
       " 'belmont',\n",
       " 'belong',\n",
       " 'belov',\n",
       " 'belt',\n",
       " 'bely',\n",
       " 'benchmark',\n",
       " 'bend',\n",
       " 'benea',\n",
       " 'benefit',\n",
       " 'ber',\n",
       " 'berlin',\n",
       " 'bernard',\n",
       " 'berry',\n",
       " 'besid',\n",
       " 'best',\n",
       " 'bet',\n",
       " 'betray',\n",
       " 'better',\n",
       " 'between',\n",
       " 'bev',\n",
       " 'bevmo',\n",
       " 'bew',\n",
       " 'beyond',\n",
       " 'bgw',\n",
       " 'bia',\n",
       " 'bias',\n",
       " 'bieg',\n",
       " 'biegam',\n",
       " 'bier',\n",
       " 'bif',\n",
       " 'big',\n",
       " 'biggest',\n",
       " 'bil',\n",
       " 'billow',\n",
       " 'billowy',\n",
       " 'bin',\n",
       " 'binny',\n",
       " 'bir',\n",
       " 'bird',\n",
       " 'birthday',\n",
       " 'biscu',\n",
       " 'biscuit',\n",
       " 'biscuitty',\n",
       " 'biscut',\n",
       " 'bisqu',\n",
       " 'bit',\n",
       " 'bitch',\n",
       " 'bite',\n",
       " 'bitey',\n",
       " 'bitter',\n",
       " 'bittersweet',\n",
       " 'bizar',\n",
       " 'bièr',\n",
       " 'bjcp',\n",
       " 'black',\n",
       " 'blackberry',\n",
       " 'blad',\n",
       " 'blah',\n",
       " 'blam',\n",
       " 'bland',\n",
       " 'blanket',\n",
       " 'blast',\n",
       " 'bleach',\n",
       " 'blend',\n",
       " 'blended',\n",
       " 'bless',\n",
       " 'blew',\n",
       " 'blind',\n",
       " 'blink',\n",
       " 'blitz',\n",
       " 'blo',\n",
       " 'blob',\n",
       " 'block',\n",
       " 'blog',\n",
       " 'blond',\n",
       " 'blood',\n",
       " 'bloody',\n",
       " 'bloom',\n",
       " 'blossom',\n",
       " 'blow',\n",
       " 'blowing',\n",
       " 'blown',\n",
       " 'blu',\n",
       " 'blueberry',\n",
       " 'blunt',\n",
       " 'blur',\n",
       " 'blush',\n",
       " 'bmc',\n",
       " 'board',\n",
       " 'boast',\n",
       " 'boat',\n",
       " 'boatload',\n",
       " 'bob',\n",
       " 'bock',\n",
       " 'bod',\n",
       " 'bodeg',\n",
       " 'bodied',\n",
       " 'body',\n",
       " 'bog',\n",
       " 'bohem',\n",
       " 'boil',\n",
       " 'bold',\n",
       " 'bomb',\n",
       " 'bomber',\n",
       " 'bon',\n",
       " 'bone',\n",
       " 'boo',\n",
       " 'book',\n",
       " 'boom',\n",
       " 'boost',\n",
       " 'boot',\n",
       " 'booz',\n",
       " 'booze',\n",
       " 'boozey',\n",
       " 'boozy',\n",
       " 'boquet',\n",
       " 'bor',\n",
       " 'bord',\n",
       " 'borderlin',\n",
       " 'born',\n",
       " 'boss',\n",
       " 'boston',\n",
       " 'bot',\n",
       " 'both',\n",
       " 'bothersom',\n",
       " 'bottl',\n",
       " 'bottle',\n",
       " 'bottled',\n",
       " 'bottlework',\n",
       " 'bottom',\n",
       " 'bought',\n",
       " 'bound',\n",
       " 'bount',\n",
       " 'bounty',\n",
       " 'bouquet',\n",
       " 'bourbon',\n",
       " 'bourbony',\n",
       " 'bow',\n",
       " 'bowl',\n",
       " 'box',\n",
       " 'boy',\n",
       " 'bpa',\n",
       " 'brac',\n",
       " 'brack',\n",
       " 'brag',\n",
       " 'braggot',\n",
       " 'brain',\n",
       " 'branch',\n",
       " 'brand',\n",
       " 'brandy',\n",
       " 'brash',\n",
       " 'brass',\n",
       " 'brassery',\n",
       " 'brassy',\n",
       " 'brat',\n",
       " 'brau',\n",
       " 'bravo',\n",
       " 'brazil',\n",
       " 'brea',\n",
       " 'bread',\n",
       " 'breadcrust',\n",
       " 'bready',\n",
       " 'break',\n",
       " 'breakfast',\n",
       " 'breath',\n",
       " 'breez',\n",
       " 'bret',\n",
       " 'brethr',\n",
       " 'brett',\n",
       " 'brettanomyc',\n",
       " 'bretty',\n",
       " 'brew',\n",
       " 'brewed',\n",
       " 'brewery',\n",
       " 'brewh',\n",
       " 'brewmast',\n",
       " 'brewpub',\n",
       " 'brick',\n",
       " 'bridg',\n",
       " 'brief',\n",
       " 'bright',\n",
       " 'bril',\n",
       " 'brim',\n",
       " 'bring',\n",
       " 'brisk',\n",
       " 'bristl',\n",
       " 'brit',\n",
       " 'britain',\n",
       " 'bro',\n",
       " 'broad',\n",
       " 'brok',\n",
       " 'bronz',\n",
       " 'bronze',\n",
       " 'brooklyn',\n",
       " 'broth',\n",
       " 'brought',\n",
       " 'brown',\n",
       " 'brownish',\n",
       " 'browny',\n",
       " 'bru',\n",
       " 'bruery',\n",
       " 'brug',\n",
       " 'brul',\n",
       " 'brush',\n",
       " 'brussel',\n",
       " 'brut',\n",
       " 'bsa',\n",
       " 'bsda',\n",
       " 'bspa',\n",
       " 'bspas',\n",
       " 'btw',\n",
       " 'bubbl',\n",
       " 'bubble',\n",
       " 'bubbled',\n",
       " 'bubbleg',\n",
       " 'bubbles',\n",
       " 'buck',\n",
       " 'bud',\n",
       " 'buddy',\n",
       " 'budget',\n",
       " 'budw',\n",
       " 'buff',\n",
       " 'buffalo',\n",
       " 'bug',\n",
       " 'build',\n",
       " 'built',\n",
       " 'bul',\n",
       " 'bulb',\n",
       " 'bulk',\n",
       " 'bum',\n",
       " 'bump',\n",
       " 'bunch',\n",
       " 'buoy',\n",
       " 'burg',\n",
       " 'burgandy',\n",
       " 'burgundy',\n",
       " 'burn',\n",
       " 'burnt',\n",
       " 'burp',\n",
       " 'burst',\n",
       " 'bury',\n",
       " 'busch',\n",
       " 'bush',\n",
       " 'bust',\n",
       " 'busy',\n",
       " 'but',\n",
       " 'butter',\n",
       " 'butterscotch',\n",
       " 'buttery',\n",
       " 'button',\n",
       " 'buy',\n",
       " 'buzz',\n",
       " 'bw',\n",
       " 'by',\n",
       " 'ca',\n",
       " 'cab',\n",
       " 'cabin',\n",
       " 'cabinet',\n",
       " 'caf',\n",
       " 'cag',\n",
       " 'cak',\n",
       " 'cake',\n",
       " 'cal',\n",
       " 'caledon',\n",
       " 'calg',\n",
       " 'californ',\n",
       " 'called',\n",
       " 'calm',\n",
       " 'calumet',\n",
       " 'cam',\n",
       " 'cambridg',\n",
       " 'cameo',\n",
       " 'camp',\n",
       " 'campfir',\n",
       " 'can',\n",
       " 'canad',\n",
       " 'cand',\n",
       " 'candid',\n",
       " 'candied',\n",
       " 'candl',\n",
       " 'candy',\n",
       " 'cannab',\n",
       " 'cannot',\n",
       " 'canquest',\n",
       " 'cant',\n",
       " 'cantaloup',\n",
       " 'canuck',\n",
       " 'canva',\n",
       " 'cap',\n",
       " 'capac',\n",
       " 'capit',\n",
       " 'capon',\n",
       " 'cappuccino',\n",
       " 'capt',\n",
       " 'captain',\n",
       " 'car',\n",
       " 'caracol',\n",
       " 'caram',\n",
       " 'caramalt',\n",
       " 'caramel',\n",
       " 'carb',\n",
       " 'carbin',\n",
       " 'carbo',\n",
       " 'carbon',\n",
       " 'carbonated',\n",
       " 'carbonation',\n",
       " 'card',\n",
       " 'cardamom',\n",
       " 'cardamon',\n",
       " 'cardboard',\n",
       " 'cardom',\n",
       " 'cardomom',\n",
       " 'caress',\n",
       " 'carm',\n",
       " 'carmel',\n",
       " 'carn',\n",
       " 'carob',\n",
       " 'carolin',\n",
       " 'carrot',\n",
       " 'carry',\n",
       " 'cartoon',\n",
       " 'carv',\n",
       " 'cas',\n",
       " 'cascad',\n",
       " 'cascade',\n",
       " 'cash',\n",
       " 'cashew',\n",
       " 'cask',\n",
       " 'cast',\n",
       " 'castl',\n",
       " 'cat',\n",
       " 'catch',\n",
       " 'categ',\n",
       " 'catty',\n",
       " 'caught',\n",
       " 'caus',\n",
       " 'caut',\n",
       " 'cav',\n",
       " 'cdn',\n",
       " 'ceas',\n",
       " 'ced',\n",
       " 'ceil',\n",
       " 'celebr',\n",
       " 'celery',\n",
       " 'cell',\n",
       " 'cent',\n",
       " 'centen',\n",
       " 'centimet',\n",
       " 'centric',\n",
       " 'century',\n",
       " 'cer',\n",
       " 'ceram',\n",
       " 'certain',\n",
       " 'cervez',\n",
       " 'cervo',\n",
       " 'cha',\n",
       " 'chain',\n",
       " 'chair',\n",
       " 'chal',\n",
       " 'chalk',\n",
       " 'chalky',\n",
       " 'challeng',\n",
       " 'chamomil',\n",
       " 'champ',\n",
       " 'champagn',\n",
       " 'champagne',\n",
       " 'champaign',\n",
       " 'chang',\n",
       " 'chant',\n",
       " 'char',\n",
       " 'charact',\n",
       " 'character',\n",
       " 'charco',\n",
       " 'chardonnay',\n",
       " 'charg',\n",
       " 'charlot',\n",
       " 'charlottesvil',\n",
       " 'charm',\n",
       " 'chart',\n",
       " 'chas',\n",
       " 'che',\n",
       " 'cheap',\n",
       " 'cheapest',\n",
       " 'check',\n",
       " 'chedd',\n",
       " 'cheek',\n",
       " 'cheery',\n",
       " 'chees',\n",
       " 'chef',\n",
       " 'chem',\n",
       " 'cherry',\n",
       " 'chest',\n",
       " 'chestnut',\n",
       " 'chew',\n",
       " 'chewy',\n",
       " 'chi',\n",
       " 'chic',\n",
       " 'chicago',\n",
       " 'chich',\n",
       " 'chick',\n",
       " 'chil',\n",
       " 'child',\n",
       " 'chim',\n",
       " 'chimay',\n",
       " 'chines',\n",
       " 'chinook',\n",
       " 'chip',\n",
       " 'chipotl',\n",
       " 'chlorine',\n",
       " 'cho',\n",
       " 'choc',\n",
       " 'choco',\n",
       " 'chocol',\n",
       " 'chocolate',\n",
       " 'chocolatey',\n",
       " 'chocolaty',\n",
       " 'chokl',\n",
       " 'choos',\n",
       " 'chop',\n",
       " 'chor',\n",
       " 'chos',\n",
       " 'chouff',\n",
       " 'chris',\n",
       " 'christmas',\n",
       " 'christmasy',\n",
       " 'chug',\n",
       " 'chunk',\n",
       " 'chunky',\n",
       " 'churn',\n",
       " 'cid',\n",
       " 'cider',\n",
       " 'cidery',\n",
       " 'cig',\n",
       " 'cigaret',\n",
       " 'cilantro',\n",
       " 'cinammon',\n",
       " 'cinamon',\n",
       " 'cinnamin',\n",
       " 'cinnamon',\n",
       " 'cinnimon',\n",
       " 'circ',\n",
       " 'circumst',\n",
       " 'cirt',\n",
       " 'cit',\n",
       " 'citr',\n",
       " 'citrus',\n",
       " 'citrussy',\n",
       " 'citrusy',\n",
       " 'city',\n",
       " ...]"
      ]
     },
     "execution_count": 52,
     "metadata": {},
     "output_type": "execute_result"
    }
   ],
   "source": [
    "tf_idf_vec.get_feature_names()"
   ]
  },
  {
   "cell_type": "code",
   "execution_count": 53,
   "metadata": {},
   "outputs": [
    {
     "data": {
      "text/plain": [
       "(13005, 5000)"
      ]
     },
     "execution_count": 53,
     "metadata": {},
     "output_type": "execute_result"
    }
   ],
   "source": [
    "doc_term.shape"
   ]
  },
  {
   "cell_type": "markdown",
   "metadata": {},
   "source": [
    "## SVD"
   ]
  },
  {
   "cell_type": "markdown",
   "metadata": {},
   "source": [
    "With our tf-idf matrix in place, we can now perform SVD on our data. We can then use this data to make an informed decision regarding the number of features to extract."
   ]
  },
  {
   "cell_type": "code",
   "execution_count": 54,
   "metadata": {},
   "outputs": [],
   "source": [
    "svd = TruncatedSVD(n_components=100, n_iter=20)"
   ]
  },
  {
   "cell_type": "code",
   "execution_count": 55,
   "metadata": {},
   "outputs": [],
   "source": [
    "results = svd.fit_transform(doc_term)"
   ]
  },
  {
   "cell_type": "code",
   "execution_count": 56,
   "metadata": {},
   "outputs": [
    {
     "data": {
      "text/plain": [
       "(13005, 100)"
      ]
     },
     "execution_count": 56,
     "metadata": {},
     "output_type": "execute_result"
    }
   ],
   "source": [
    "results.shape"
   ]
  },
  {
   "cell_type": "code",
   "execution_count": 57,
   "metadata": {},
   "outputs": [
    {
     "data": {
      "text/plain": [
       "array([0.00569154, 0.01407594, 0.0096309 , 0.00774486, 0.00712691,\n",
       "       0.00666317, 0.00445754, 0.00438222, 0.00428199, 0.00420265,\n",
       "       0.00370811, 0.00361221, 0.00356086, 0.00349774, 0.00335461,\n",
       "       0.00318703, 0.00311776, 0.00306773, 0.00302306, 0.00293206,\n",
       "       0.00286153, 0.00283354, 0.00280256, 0.00273439, 0.00269426,\n",
       "       0.00261186, 0.00258421, 0.00257985, 0.00249174, 0.00247249,\n",
       "       0.00242551, 0.00240958, 0.00240092, 0.00237609, 0.00236392,\n",
       "       0.00231338, 0.00230328, 0.00226427, 0.00224344, 0.00221709,\n",
       "       0.00219981, 0.00217283, 0.00213792, 0.00212997, 0.00211038,\n",
       "       0.00209961, 0.00208624, 0.00205907, 0.00204039, 0.00201224,\n",
       "       0.00200102, 0.00199501, 0.00198275, 0.00195008, 0.00194109,\n",
       "       0.00191621, 0.00190291, 0.00188334, 0.00186912, 0.00186254,\n",
       "       0.00185894, 0.00184646, 0.00183366, 0.00182452, 0.00182152,\n",
       "       0.00181197, 0.00178727, 0.00177409, 0.001763  , 0.00174802,\n",
       "       0.00173655, 0.00172149, 0.00170563, 0.00169623, 0.00168876,\n",
       "       0.0016841 , 0.00167753, 0.00166925, 0.00166197, 0.00165897,\n",
       "       0.00163654, 0.00163393, 0.00162799, 0.00161471, 0.00161309,\n",
       "       0.00159548, 0.00159081, 0.00158352, 0.00156796, 0.00155458,\n",
       "       0.00155204, 0.00153999, 0.00153593, 0.00152925, 0.00152498,\n",
       "       0.00150362, 0.00150228, 0.00150072, 0.00149342, 0.00148235])"
      ]
     },
     "execution_count": 57,
     "metadata": {},
     "output_type": "execute_result"
    }
   ],
   "source": [
    "svd.explained_variance_ratio_"
   ]
  },
  {
   "cell_type": "code",
   "execution_count": 58,
   "metadata": {},
   "outputs": [
    {
     "data": {
      "text/plain": [
       "[<matplotlib.lines.Line2D at 0x121c54f60>]"
      ]
     },
     "execution_count": 58,
     "metadata": {},
     "output_type": "execute_result"
    },
    {
     "data": {
      "image/png": "[encoded data removed]",
      "text/plain": [
       "<Figure size 432x288 with 1 Axes>"
      ]
     },
     "metadata": {
      "needs_background": "light"
     },
     "output_type": "display_data"
    }
   ],
   "source": [
    "ax = plt.subplot()\n",
    "ax.plot(range(1, len(svd.explained_variance_ratio_)+1), svd.explained_variance_ratio_)"
   ]
  },
  {
   "cell_type": "code",
   "execution_count": 59,
   "metadata": {},
   "outputs": [
    {
     "data": {
      "text/plain": [
       "array([0.00530605, 0.01312257, 0.0089786 , 0.00722029, 0.0066442 ,\n",
       "       0.00621187, 0.00415563, 0.00408541, 0.00399197, 0.003918  ,\n",
       "       0.00345696, 0.00336755, 0.00331968, 0.00326083, 0.0031274 ,\n",
       "       0.00297117, 0.00290659, 0.00285995, 0.00281831, 0.00273347,\n",
       "       0.00266771, 0.00264163, 0.00261274, 0.00254919, 0.00251177,\n",
       "       0.00243496, 0.00240918, 0.00240511, 0.00232297, 0.00230503,\n",
       "       0.00226123, 0.00224638, 0.00223831, 0.00221515, 0.00220381,\n",
       "       0.0021567 , 0.00214728, 0.00211091, 0.00209149, 0.00206693,\n",
       "       0.00205082, 0.00202566, 0.00199312, 0.00198571, 0.00196744,\n",
       "       0.0019574 , 0.00194494, 0.00191961, 0.00190219, 0.00187595,\n",
       "       0.00186549, 0.00185989, 0.00184846, 0.001818  , 0.00180961,\n",
       "       0.00178642, 0.00177402, 0.00175578, 0.00174252, 0.00173639,\n",
       "       0.00173303, 0.0017214 , 0.00170947, 0.00170095, 0.00169814,\n",
       "       0.00168924, 0.00166622, 0.00165393, 0.00164359, 0.00162963,\n",
       "       0.00161893, 0.0016049 , 0.00159011, 0.00158134, 0.00157438,\n",
       "       0.00157004, 0.00156391, 0.00155619, 0.00154941, 0.00154661,\n",
       "       0.0015257 , 0.00152327, 0.00151773, 0.00150534, 0.00150384,\n",
       "       0.00148742, 0.00148306, 0.00147627, 0.00146176, 0.00144929,\n",
       "       0.00144692, 0.00143568, 0.0014319 , 0.00142567, 0.00142169,\n",
       "       0.00140178, 0.00140053, 0.00139908, 0.00139227, 0.00138195])"
      ]
     },
     "execution_count": 59,
     "metadata": {},
     "output_type": "execute_result"
    }
   ],
   "source": [
    "svd.explained_variance_"
   ]
  },
  {
   "cell_type": "code",
   "execution_count": 60,
   "metadata": {},
   "outputs": [
    {
     "data": {
      "text/plain": [
       "(100, 5000)"
      ]
     },
     "execution_count": 60,
     "metadata": {},
     "output_type": "execute_result"
    }
   ],
   "source": [
    "svd.components_.shape"
   ]
  },
  {
   "cell_type": "code",
   "execution_count": 78,
   "metadata": {},
   "outputs": [],
   "source": [
    "nmf = NMF(n_components=6)"
   ]
  },
  {
   "cell_type": "code",
   "execution_count": 79,
   "metadata": {},
   "outputs": [],
   "source": [
    "nmf_results = nmf.fit_transform(doc_term)"
   ]
  },
  {
   "cell_type": "code",
   "execution_count": 80,
   "metadata": {},
   "outputs": [
    {
     "data": {
      "text/plain": [
       "(13005, 6)"
      ]
     },
     "execution_count": 80,
     "metadata": {},
     "output_type": "execute_result"
    }
   ],
   "source": [
    "nmf_results.shape"
   ]
  },
  {
   "cell_type": "code",
   "execution_count": 81,
   "metadata": {},
   "outputs": [
    {
     "data": {
      "text/plain": [
       "(6, 5000)"
      ]
     },
     "execution_count": 81,
     "metadata": {},
     "output_type": "execute_result"
    }
   ],
   "source": [
    "nmf.components_.shape"
   ]
  },
  {
   "cell_type": "code",
   "execution_count": 65,
   "metadata": {},
   "outputs": [],
   "source": [
    "svd_results = np.linalg.svd(doc_term.toarray(()))"
   ]
  },
  {
   "cell_type": "code",
   "execution_count": 66,
   "metadata": {},
   "outputs": [
    {
     "data": {
      "text/plain": [
       "(13005, 5000)"
      ]
     },
     "execution_count": 66,
     "metadata": {},
     "output_type": "execute_result"
    }
   ],
   "source": [
    "doc_term.shape"
   ]
  },
  {
   "cell_type": "code",
   "execution_count": 67,
   "metadata": {},
   "outputs": [
    {
     "data": {
      "text/plain": [
       "tuple"
      ]
     },
     "execution_count": 67,
     "metadata": {},
     "output_type": "execute_result"
    }
   ],
   "source": [
    "type(svd_results)"
   ]
  },
  {
   "cell_type": "code",
   "execution_count": 68,
   "metadata": {},
   "outputs": [
    {
     "data": {
      "text/plain": [
       "3"
      ]
     },
     "execution_count": 68,
     "metadata": {},
     "output_type": "execute_result"
    }
   ],
   "source": [
    "len(svd_results)"
   ]
  },
  {
   "cell_type": "code",
   "execution_count": 69,
   "metadata": {},
   "outputs": [],
   "source": [
    "U, S, Vh = svd_results"
   ]
  },
  {
   "cell_type": "code",
   "execution_count": 70,
   "metadata": {},
   "outputs": [
    {
     "data": {
      "text/plain": [
       "numpy.ndarray"
      ]
     },
     "execution_count": 70,
     "metadata": {},
     "output_type": "execute_result"
    }
   ],
   "source": [
    "type(U)"
   ]
  },
  {
   "cell_type": "code",
   "execution_count": 72,
   "metadata": {},
   "outputs": [
    {
     "data": {
      "text/plain": [
       "(5000,)"
      ]
     },
     "execution_count": 72,
     "metadata": {},
     "output_type": "execute_result"
    }
   ],
   "source": [
    "S.shape"
   ]
  },
  {
   "cell_type": "code",
   "execution_count": 74,
   "metadata": {},
   "outputs": [
    {
     "data": {
      "text/plain": [
       "array([30.75929202, 13.06544872, 10.80805438,  9.70638986,  9.31887961,\n",
       "        8.99672373,  7.35648604,  7.28909409,  7.20812831,  7.14014363])"
      ]
     },
     "execution_count": 74,
     "metadata": {},
     "output_type": "execute_result"
    }
   ],
   "source": [
    "S[0:10]"
   ]
  },
  {
   "cell_type": "code",
   "execution_count": 77,
   "metadata": {},
   "outputs": [
    {
     "data": {
      "text/plain": [
       "[<matplotlib.lines.Line2D at 0x1334d3d30>]"
      ]
     },
     "execution_count": 77,
     "metadata": {},
     "output_type": "execute_result"
    },
    {
     "data": {
      "image/png": "[encoded data removed]",
      "text/plain": [
       "<Figure size 432x288 with 1 Axes>"
      ]
     },
     "metadata": {
      "needs_background": "light"
     },
     "output_type": "display_data"
    }
   ],
   "source": [
    "ax = plt.subplot()\n",
    "ax.plot(range(1, len(S[0:10])+1), S[0:10])"
   ]
  },
  {
   "cell_type": "code",
   "execution_count": 85,
   "metadata": {},
   "outputs": [],
   "source": [
    "import src.create_nmf as c_nmf"
   ]
  },
  {
   "cell_type": "code",
   "execution_count": 104,
   "metadata": {},
   "outputs": [],
   "source": [
    "tp = c_nmf.load_data('data/beers.csv', 'data/reviews.csv')"
   ]
  },
  {
   "cell_type": "code",
   "execution_count": 102,
   "metadata": {},
   "outputs": [
    {
     "data": {
      "text/plain": [
       "(790216, 11)"
      ]
     },
     "execution_count": 102,
     "metadata": {},
     "output_type": "execute_result"
    }
   ],
   "source": [
    "tp[1].shape"
   ]
  },
  {
   "cell_type": "code",
   "execution_count": 103,
   "metadata": {},
   "outputs": [
    {
     "data": {
      "text/plain": [
       "(9248, 16)"
      ]
     },
     "execution_count": 103,
     "metadata": {},
     "output_type": "execute_result"
    }
   ],
   "source": [
    "tp[0].shape"
   ]
  },
  {
   "cell_type": "code",
   "execution_count": 106,
   "metadata": {},
   "outputs": [
    {
     "data": {
      "text/html": [
       "<div>\n",
       "<style scoped>\n",
       "    .dataframe tbody tr th:only-of-type {\n",
       "        vertical-align: middle;\n",
       "    }\n",
       "\n",
       "    .dataframe tbody tr th {\n",
       "        vertical-align: top;\n",
       "    }\n",
       "\n",
       "    .dataframe thead th {\n",
       "        text-align: right;\n",
       "    }\n",
       "</style>\n",
       "<table border=\"1\" class=\"dataframe\">\n",
       "  <thead>\n",
       "    <tr style=\"text-align: right;\">\n",
       "      <th></th>\n",
       "      <th>abv</th>\n",
       "      <th>beer</th>\n",
       "      <th>beer_url</th>\n",
       "      <th>brewery</th>\n",
       "      <th>brewery_profile_url</th>\n",
       "      <th>gots</th>\n",
       "      <th>note</th>\n",
       "      <th>pdev</th>\n",
       "      <th>rank</th>\n",
       "      <th>rating</th>\n",
       "      <th>ratings_count</th>\n",
       "      <th>review_count</th>\n",
       "      <th>style</th>\n",
       "      <th>trade</th>\n",
       "      <th>wants</th>\n",
       "      <th>review_id</th>\n",
       "    </tr>\n",
       "  </thead>\n",
       "  <tbody>\n",
       "    <tr>\n",
       "      <th>0</th>\n",
       "      <td>8.6</td>\n",
       "      <td>lagunitas imperial pils</td>\n",
       "      <td>https://www.beeradvocate.com/beer/profile/220/...</td>\n",
       "      <td>lagunitas brewing company</td>\n",
       "      <td>/beer/profile/220/</td>\n",
       "      <td>85.0</td>\n",
       "      <td>None provided.</td>\n",
       "      <td>9.16</td>\n",
       "      <td>13465.0</td>\n",
       "      <td>3.93</td>\n",
       "      <td>343.0</td>\n",
       "      <td>104.0</td>\n",
       "      <td>american imperial pilsner</td>\n",
       "      <td>0.0</td>\n",
       "      <td>13.0</td>\n",
       "      <td>lagunitas brewing company lagunitas imperial pils</td>\n",
       "    </tr>\n",
       "    <tr>\n",
       "      <th>1</th>\n",
       "      <td>7.5</td>\n",
       "      <td>1901 red ale</td>\n",
       "      <td>https://www.beeradvocate.com/beer/profile/1728...</td>\n",
       "      <td>bold city brewery</td>\n",
       "      <td>/beer/profile/17284/</td>\n",
       "      <td>8.0</td>\n",
       "      <td>None provided.</td>\n",
       "      <td>12.05</td>\n",
       "      <td>16493.0</td>\n",
       "      <td>3.90</td>\n",
       "      <td>74.0</td>\n",
       "      <td>22.0</td>\n",
       "      <td>american amber / red ale</td>\n",
       "      <td>0.0</td>\n",
       "      <td>1.0</td>\n",
       "      <td>bold city brewery 1901 red ale</td>\n",
       "    </tr>\n",
       "    <tr>\n",
       "      <th>2</th>\n",
       "      <td>4.5</td>\n",
       "      <td>conundrum</td>\n",
       "      <td>https://www.beeradvocate.com/beer/profile/2097...</td>\n",
       "      <td>kuhnhenn brewing company</td>\n",
       "      <td>/beer/profile/2097/</td>\n",
       "      <td>1.0</td>\n",
       "      <td>Deep amber in color, this English session bier...</td>\n",
       "      <td>10.82</td>\n",
       "      <td>25095.0</td>\n",
       "      <td>3.79</td>\n",
       "      <td>21.0</td>\n",
       "      <td>6.0</td>\n",
       "      <td>english dark mild ale</td>\n",
       "      <td>0.0</td>\n",
       "      <td>0.0</td>\n",
       "      <td>kuhnhenn brewing company conundrum</td>\n",
       "    </tr>\n",
       "    <tr>\n",
       "      <th>3</th>\n",
       "      <td>0.5</td>\n",
       "      <td>busch na</td>\n",
       "      <td>https://www.beeradvocate.com/beer/profile/29/1...</td>\n",
       "      <td>anheuser-busch</td>\n",
       "      <td>/beer/profile/29/</td>\n",
       "      <td>8.0</td>\n",
       "      <td>Fully brewed with finest natural ingredients, ...</td>\n",
       "      <td>37.44</td>\n",
       "      <td>47674.0</td>\n",
       "      <td>2.19</td>\n",
       "      <td>99.0</td>\n",
       "      <td>53.0</td>\n",
       "      <td>low alcohol beer</td>\n",
       "      <td>0.0</td>\n",
       "      <td>2.0</td>\n",
       "      <td>anheuser-busch busch na</td>\n",
       "    </tr>\n",
       "    <tr>\n",
       "      <th>4</th>\n",
       "      <td>4.9</td>\n",
       "      <td>churchville lager</td>\n",
       "      <td>https://www.beeradvocate.com/beer/profile/2902...</td>\n",
       "      <td>neshaminy creek brewing company</td>\n",
       "      <td>/beer/profile/29021/</td>\n",
       "      <td>47.0</td>\n",
       "      <td>Pennsylvania breweries are known for world-cla...</td>\n",
       "      <td>10.24</td>\n",
       "      <td>30839.0</td>\n",
       "      <td>3.71</td>\n",
       "      <td>173.0</td>\n",
       "      <td>36.0</td>\n",
       "      <td>vienna lager</td>\n",
       "      <td>0.0</td>\n",
       "      <td>7.0</td>\n",
       "      <td>neshaminy creek brewing company churchville lager</td>\n",
       "    </tr>\n",
       "  </tbody>\n",
       "</table>\n",
       "</div>"
      ],
      "text/plain": [
       "   abv                     beer  \\\n",
       "0  8.6  lagunitas imperial pils   \n",
       "1  7.5             1901 red ale   \n",
       "2  4.5                conundrum   \n",
       "3  0.5                 busch na   \n",
       "4  4.9        churchville lager   \n",
       "\n",
       "                                            beer_url  \\\n",
       "0  https://www.beeradvocate.com/beer/profile/220/...   \n",
       "1  https://www.beeradvocate.com/beer/profile/1728...   \n",
       "2  https://www.beeradvocate.com/beer/profile/2097...   \n",
       "3  https://www.beeradvocate.com/beer/profile/29/1...   \n",
       "4  https://www.beeradvocate.com/beer/profile/2902...   \n",
       "\n",
       "                           brewery   brewery_profile_url  gots  \\\n",
       "0        lagunitas brewing company    /beer/profile/220/  85.0   \n",
       "1                bold city brewery  /beer/profile/17284/   8.0   \n",
       "2         kuhnhenn brewing company   /beer/profile/2097/   1.0   \n",
       "3                   anheuser-busch     /beer/profile/29/   8.0   \n",
       "4  neshaminy creek brewing company  /beer/profile/29021/  47.0   \n",
       "\n",
       "                                                note   pdev     rank  rating  \\\n",
       "0                                     None provided.   9.16  13465.0    3.93   \n",
       "1                                     None provided.  12.05  16493.0    3.90   \n",
       "2  Deep amber in color, this English session bier...  10.82  25095.0    3.79   \n",
       "3  Fully brewed with finest natural ingredients, ...  37.44  47674.0    2.19   \n",
       "4  Pennsylvania breweries are known for world-cla...  10.24  30839.0    3.71   \n",
       "\n",
       "   ratings_count  review_count                      style  trade  wants  \\\n",
       "0          343.0         104.0  american imperial pilsner    0.0   13.0   \n",
       "1           74.0          22.0   american amber / red ale    0.0    1.0   \n",
       "2           21.0           6.0      english dark mild ale    0.0    0.0   \n",
       "3           99.0          53.0           low alcohol beer    0.0    2.0   \n",
       "4          173.0          36.0               vienna lager    0.0    7.0   \n",
       "\n",
       "                                           review_id  \n",
       "0  lagunitas brewing company lagunitas imperial pils  \n",
       "1                     bold city brewery 1901 red ale  \n",
       "2                 kuhnhenn brewing company conundrum  \n",
       "3                            anheuser-busch busch na  \n",
       "4  neshaminy creek brewing company churchville lager  "
      ]
     },
     "execution_count": 106,
     "metadata": {},
     "output_type": "execute_result"
    }
   ],
   "source": [
    "tp[0].head()"
   ]
  },
  {
   "cell_type": "code",
   "execution_count": 23,
   "metadata": {},
   "outputs": [],
   "source": [
    "with open('pickles/NMF.pkl', 'rb') as p:\n",
    "    nmf_pkl = pickle.load(p)"
   ]
  },
  {
   "cell_type": "code",
   "execution_count": 24,
   "metadata": {},
   "outputs": [
    {
     "data": {
      "text/plain": [
       "NMF(alpha=0.0, beta_loss='frobenius', init=None, l1_ratio=0.0, max_iter=200,\n",
       "    n_components=15, random_state=None, shuffle=False, solver='cd', tol=0.0001,\n",
       "    verbose=0)"
      ]
     },
     "execution_count": 24,
     "metadata": {},
     "output_type": "execute_result"
    }
   ],
   "source": [
    "nmf_pkl"
   ]
  },
  {
   "cell_type": "code",
   "execution_count": 25,
   "metadata": {},
   "outputs": [
    {
     "data": {
      "text/plain": [
       "array([[1.75316557e-01, 0.00000000e+00, 0.00000000e+00, 0.00000000e+00,\n",
       "        0.00000000e+00, 0.00000000e+00, 0.00000000e+00, 1.22598079e-06,\n",
       "        0.00000000e+00, 0.00000000e+00],\n",
       "       [0.00000000e+00, 1.96374663e-01, 0.00000000e+00, 0.00000000e+00,\n",
       "        9.81717785e-07, 0.00000000e+00, 3.07007636e-01, 0.00000000e+00,\n",
       "        5.05617641e-07, 0.00000000e+00],\n",
       "       [0.00000000e+00, 0.00000000e+00, 0.00000000e+00, 0.00000000e+00,\n",
       "        0.00000000e+00, 9.79785647e-01, 0.00000000e+00, 0.00000000e+00,\n",
       "        1.07942550e-05, 0.00000000e+00],\n",
       "       [0.00000000e+00, 0.00000000e+00, 0.00000000e+00, 0.00000000e+00,\n",
       "        0.00000000e+00, 0.00000000e+00, 0.00000000e+00, 0.00000000e+00,\n",
       "        0.00000000e+00, 5.01285371e-01],\n",
       "       [0.00000000e+00, 0.00000000e+00, 0.00000000e+00, 1.32224565e-03,\n",
       "        0.00000000e+00, 0.00000000e+00, 0.00000000e+00, 0.00000000e+00,\n",
       "        5.68585983e-01, 0.00000000e+00],\n",
       "       [0.00000000e+00, 0.00000000e+00, 0.00000000e+00, 6.38992360e-01,\n",
       "        0.00000000e+00, 0.00000000e+00, 0.00000000e+00, 0.00000000e+00,\n",
       "        0.00000000e+00, 0.00000000e+00],\n",
       "       [0.00000000e+00, 0.00000000e+00, 0.00000000e+00, 0.00000000e+00,\n",
       "        3.43182390e-07, 0.00000000e+00, 0.00000000e+00, 1.65473201e+00,\n",
       "        0.00000000e+00, 0.00000000e+00],\n",
       "       [0.00000000e+00, 0.00000000e+00, 0.00000000e+00, 0.00000000e+00,\n",
       "        7.43424593e-01, 0.00000000e+00, 0.00000000e+00, 0.00000000e+00,\n",
       "        0.00000000e+00, 0.00000000e+00],\n",
       "       [0.00000000e+00, 9.02120906e-01, 0.00000000e+00, 0.00000000e+00,\n",
       "        0.00000000e+00, 0.00000000e+00, 0.00000000e+00, 0.00000000e+00,\n",
       "        0.00000000e+00, 0.00000000e+00],\n",
       "       [5.46903600e-01, 0.00000000e+00, 8.08522006e-03, 0.00000000e+00,\n",
       "        0.00000000e+00, 0.00000000e+00, 3.15068136e-01, 0.00000000e+00,\n",
       "        0.00000000e+00, 0.00000000e+00],\n",
       "       [1.03448583e-08, 0.00000000e+00, 5.33634801e-01, 0.00000000e+00,\n",
       "        0.00000000e+00, 0.00000000e+00, 0.00000000e+00, 0.00000000e+00,\n",
       "        0.00000000e+00, 0.00000000e+00],\n",
       "       [2.85682971e-07, 0.00000000e+00, 0.00000000e+00, 0.00000000e+00,\n",
       "        0.00000000e+00, 1.23932511e-06, 0.00000000e+00, 0.00000000e+00,\n",
       "        9.02037001e-01, 4.13860055e-01],\n",
       "       [2.58613131e-06, 0.00000000e+00, 0.00000000e+00, 0.00000000e+00,\n",
       "        1.58038248e+00, 0.00000000e+00, 0.00000000e+00, 0.00000000e+00,\n",
       "        0.00000000e+00, 0.00000000e+00],\n",
       "       [6.02775051e-08, 0.00000000e+00, 0.00000000e+00, 0.00000000e+00,\n",
       "        0.00000000e+00, 0.00000000e+00, 7.53674642e-01, 0.00000000e+00,\n",
       "        0.00000000e+00, 0.00000000e+00],\n",
       "       [8.36523777e-01, 0.00000000e+00, 0.00000000e+00, 0.00000000e+00,\n",
       "        0.00000000e+00, 7.15774142e-10, 0.00000000e+00, 0.00000000e+00,\n",
       "        0.00000000e+00, 0.00000000e+00]])"
      ]
     },
     "execution_count": 25,
     "metadata": {},
     "output_type": "execute_result"
    }
   ],
   "source": [
    "nmf_pkl.components_"
   ]
  },
  {
   "cell_type": "code",
   "execution_count": null,
   "metadata": {},
   "outputs": [],
   "source": []
  }
 ],
 "metadata": {
  "kernelspec": {
   "display_name": "Python 3",
   "language": "python",
   "name": "python3"
  },
  "language_info": {
   "codemirror_mode": {
    "name": "ipython",
    "version": 3
   },
   "file_extension": ".py",
   "mimetype": "text/x-python",
   "name": "python",
   "nbconvert_exporter": "python",
   "pygments_lexer": "ipython3",
   "version": "3.7.3"
  }
 },
 "nbformat": 4,
 "nbformat_minor": 2
}

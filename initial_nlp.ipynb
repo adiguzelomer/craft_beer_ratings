{
 "cells": [
  {
   "cell_type": "markdown",
   "metadata": {},
   "source": [
    "# Initial NLP"
   ]
  },
  {
   "cell_type": "code",
   "execution_count": 98,
   "metadata": {},
   "outputs": [],
   "source": [
    "import src.nlp as nlp\n",
    "import numpy as np\n",
    "import pandas as pd\n",
    "import matplotlib.pyplot as plt\n",
    "%matplotlib inline\n",
    "import re\n",
    "from sklearn.feature_extraction.text import TfidfVectorizer\n",
    "from sklearn.decomposition import TruncatedSVD\n",
    "from pprint import pprint"
   ]
  },
  {
   "cell_type": "markdown",
   "metadata": {},
   "source": [
    "Let's load the our two datasets."
   ]
  },
  {
   "cell_type": "code",
   "execution_count": 4,
   "metadata": {},
   "outputs": [],
   "source": [
    "beer_df = pd.read_csv('data/beers.csv')\n",
    "reviews_df = pd.read_csv('data/reviews.csv')"
   ]
  },
  {
   "cell_type": "code",
   "execution_count": 5,
   "metadata": {},
   "outputs": [
    {
     "name": "stdout",
     "output_type": "stream",
     "text": [
      "<class 'pandas.core.frame.DataFrame'>\n",
      "RangeIndex: 9248 entries, 0 to 9247\n",
      "Data columns (total 15 columns):\n",
      "abv                    8998 non-null float64\n",
      "beer                   9248 non-null object\n",
      "beer_url               9248 non-null object\n",
      "brewery                9248 non-null object\n",
      "brewery_profile_url    9248 non-null object\n",
      "gots                   9248 non-null float64\n",
      "note                   9248 non-null object\n",
      "pdev                   9248 non-null float64\n",
      "rank                   8876 non-null float64\n",
      "rating                 9248 non-null float64\n",
      "ratings_count          9248 non-null float64\n",
      "review_count           9248 non-null float64\n",
      "style                  9248 non-null object\n",
      "trade                  9248 non-null float64\n",
      "wants                  9248 non-null float64\n",
      "dtypes: float64(9), object(6)\n",
      "memory usage: 1.1+ MB\n",
      "None\n",
      "<class 'pandas.core.frame.DataFrame'>\n",
      "RangeIndex: 790216 entries, 0 to 790215\n",
      "Data columns (total 9 columns):\n",
      "author       790216 non-null object\n",
      "beer         790216 non-null object\n",
      "feel         781084 non-null float64\n",
      "look         781084 non-null float64\n",
      "overall      781084 non-null float64\n",
      "review_id    790216 non-null object\n",
      "smell        781084 non-null float64\n",
      "taste        781084 non-null float64\n",
      "text         790216 non-null object\n",
      "dtypes: float64(5), object(4)\n",
      "memory usage: 54.3+ MB\n",
      "None\n"
     ]
    }
   ],
   "source": [
    "print(beer_df.info())\n",
    "print(reviews_df.info())"
   ]
  },
  {
   "cell_type": "markdown",
   "metadata": {},
   "source": [
    "Since our datasets are so large, it's going to be a bit tedious to work with all the data at once for this initial pass. So, let's sample 1000 beers. We'll use all of the reviews associated with these beers."
   ]
  },
  {
   "cell_type": "code",
   "execution_count": 6,
   "metadata": {},
   "outputs": [],
   "source": [
    "beer_sample = beer_df.sample(1000)"
   ]
  },
  {
   "cell_type": "code",
   "execution_count": 9,
   "metadata": {},
   "outputs": [
    {
     "name": "stdout",
     "output_type": "stream",
     "text": [
      "<class 'pandas.core.frame.DataFrame'>\n",
      "Int64Index: 1000 entries, 219 to 5585\n",
      "Data columns (total 15 columns):\n",
      "abv                    969 non-null float64\n",
      "beer                   1000 non-null object\n",
      "beer_url               1000 non-null object\n",
      "brewery                1000 non-null object\n",
      "brewery_profile_url    1000 non-null object\n",
      "gots                   1000 non-null float64\n",
      "note                   1000 non-null object\n",
      "pdev                   1000 non-null float64\n",
      "rank                   965 non-null float64\n",
      "rating                 1000 non-null float64\n",
      "ratings_count          1000 non-null float64\n",
      "review_count           1000 non-null float64\n",
      "style                  1000 non-null object\n",
      "trade                  1000 non-null float64\n",
      "wants                  1000 non-null float64\n",
      "dtypes: float64(9), object(6)\n",
      "memory usage: 125.0+ KB\n",
      "None\n",
      "count      1000\n",
      "unique      998\n",
      "top       stout\n",
      "freq          2\n",
      "Name: beer, dtype: object\n",
      "      abv   beer                                           beer_url  \\\n",
      "5238  5.0  stout  https://www.beeradvocate.com/beer/profile/9051...   \n",
      "5240  4.8  stout  https://www.beeradvocate.com/beer/profile/1288...   \n",
      "\n",
      "                              brewery   brewery_profile_url  gots  \\\n",
      "5238                moor beer company   /beer/profile/9051/   2.0   \n",
      "5240  square one brewery & distillery  /beer/profile/12881/   1.0   \n",
      "\n",
      "                                                   note  pdev     rank  \\\n",
      "5238                                     None provided.  7.27  21324.0   \n",
      "5240  Most everyone has heard of this style, even if...  8.38  18129.0   \n",
      "\n",
      "      rating  ratings_count  review_count            style  trade  wants  \n",
      "5238    3.85           23.0           5.0    english stout    0.0    2.0  \n",
      "5240    3.94           12.0           8.0  irish dry stout    0.0    0.0  \n"
     ]
    }
   ],
   "source": [
    "print(beer_sample.info())\n",
    "print(beer_sample['beer'].describe())\n",
    "print(beer_sample[beer_sample['beer']=='stout'])"
   ]
  },
  {
   "cell_type": "markdown",
   "metadata": {},
   "source": [
    "As you can see, we have two beers with the same name. Fortunately, they are differentiated by brewery.\n",
    "\n",
    "Let's generate the review_id's associated with our beer sample. We can use these id's to get to the correct reviews."
   ]
  },
  {
   "cell_type": "code",
   "execution_count": 16,
   "metadata": {},
   "outputs": [],
   "source": [
    "beer_sample['review_id'] = beer_sample['brewery'] + ' ' + beer_sample['beer']\n",
    "reviews_df = nlp.get_brew_beer_col(reviews_df)\n",
    "\n",
    "reviews_sample = reviews_df[reviews_df['brew_beer'].isin(beer_sample['review_id'].unique())]"
   ]
  },
  {
   "cell_type": "code",
   "execution_count": 21,
   "metadata": {},
   "outputs": [
    {
     "data": {
      "text/html": [
       "<div>\n",
       "<style scoped>\n",
       "    .dataframe tbody tr th:only-of-type {\n",
       "        vertical-align: middle;\n",
       "    }\n",
       "\n",
       "    .dataframe tbody tr th {\n",
       "        vertical-align: top;\n",
       "    }\n",
       "\n",
       "    .dataframe thead th {\n",
       "        text-align: right;\n",
       "    }\n",
       "</style>\n",
       "<table border=\"1\" class=\"dataframe\">\n",
       "  <thead>\n",
       "    <tr style=\"text-align: right;\">\n",
       "      <th></th>\n",
       "      <th>author</th>\n",
       "      <th>beer</th>\n",
       "      <th>feel</th>\n",
       "      <th>look</th>\n",
       "      <th>overall</th>\n",
       "      <th>review_id</th>\n",
       "      <th>smell</th>\n",
       "      <th>taste</th>\n",
       "      <th>text</th>\n",
       "      <th>brew_beer</th>\n",
       "      <th>review_num</th>\n",
       "    </tr>\n",
       "  </thead>\n",
       "  <tbody>\n",
       "    <tr>\n",
       "      <th>4</th>\n",
       "      <td>/community/members/biboergosum.168458/</td>\n",
       "      <td>death or glory</td>\n",
       "      <td>4.00</td>\n",
       "      <td>4.00</td>\n",
       "      <td>4.00</td>\n",
       "      <td>tring brewery company ltd. death or glory 4</td>\n",
       "      <td>4.00</td>\n",
       "      <td>4.00</td>\n",
       "      <td>4/5  rDev +3.1%look: 4 | smell: 4 | taste: 4 |...</td>\n",
       "      <td>tring brewery company ltd. death or glory</td>\n",
       "      <td>4</td>\n",
       "    </tr>\n",
       "    <tr>\n",
       "      <th>9</th>\n",
       "      <td>/community/members/gonzo46and2.185769/</td>\n",
       "      <td>maduro oatmeal brown ale - vanilla</td>\n",
       "      <td>4.50</td>\n",
       "      <td>4.00</td>\n",
       "      <td>4.50</td>\n",
       "      <td>cigar city brewing maduro oatmeal brown ale - ...</td>\n",
       "      <td>4.50</td>\n",
       "      <td>5.00</td>\n",
       "      <td>4.67/5  rDev +14.2%look: 4 | smell: 4.5 | tast...</td>\n",
       "      <td>cigar city brewing maduro oatmeal brown ale - ...</td>\n",
       "      <td>67</td>\n",
       "    </tr>\n",
       "    <tr>\n",
       "      <th>12</th>\n",
       "      <td>/community/members/trueperception.751390/</td>\n",
       "      <td>organic strawberry</td>\n",
       "      <td>3.75</td>\n",
       "      <td>3.75</td>\n",
       "      <td>3.75</td>\n",
       "      <td>samuel smith old brewery (tadcaster) organic s...</td>\n",
       "      <td>4.25</td>\n",
       "      <td>3.75</td>\n",
       "      <td>3.87/5  rDev +1.3%look: 3.75 | smell: 4.25 | t...</td>\n",
       "      <td>samuel smith old brewery (tadcaster) organic s...</td>\n",
       "      <td>29</td>\n",
       "    </tr>\n",
       "    <tr>\n",
       "      <th>32</th>\n",
       "      <td>/community/members/captaintripps.489114/</td>\n",
       "      <td>pannepot reserva</td>\n",
       "      <td>4.00</td>\n",
       "      <td>4.00</td>\n",
       "      <td>4.50</td>\n",
       "      <td>de struise brouwers pannepot reserva 244</td>\n",
       "      <td>4.50</td>\n",
       "      <td>4.50</td>\n",
       "      <td>4.42/5  rDev +2.8%look: 4 | smell: 4.5 | taste...</td>\n",
       "      <td>de struise brouwers pannepot reserva</td>\n",
       "      <td>244</td>\n",
       "    </tr>\n",
       "    <tr>\n",
       "      <th>35</th>\n",
       "      <td>/community/members/seedee17.6250/</td>\n",
       "      <td>steam engine lager</td>\n",
       "      <td>3.50</td>\n",
       "      <td>3.50</td>\n",
       "      <td>4.00</td>\n",
       "      <td>steamworks brewing co. steam engine lager 89</td>\n",
       "      <td>3.00</td>\n",
       "      <td>3.00</td>\n",
       "      <td>3.28/5  rDev -3.2%look: 3.5 | smell: 3 | taste...</td>\n",
       "      <td>steamworks brewing co. steam engine lager</td>\n",
       "      <td>89</td>\n",
       "    </tr>\n",
       "  </tbody>\n",
       "</table>\n",
       "</div>"
      ],
      "text/plain": [
       "                                       author  \\\n",
       "4      /community/members/biboergosum.168458/   \n",
       "9      /community/members/gonzo46and2.185769/   \n",
       "12  /community/members/trueperception.751390/   \n",
       "32   /community/members/captaintripps.489114/   \n",
       "35          /community/members/seedee17.6250/   \n",
       "\n",
       "                                  beer  feel  look  overall  \\\n",
       "4                       death or glory  4.00  4.00     4.00   \n",
       "9   maduro oatmeal brown ale - vanilla  4.50  4.00     4.50   \n",
       "12                  organic strawberry  3.75  3.75     3.75   \n",
       "32                    pannepot reserva  4.00  4.00     4.50   \n",
       "35                  steam engine lager  3.50  3.50     4.00   \n",
       "\n",
       "                                            review_id  smell  taste  \\\n",
       "4         tring brewery company ltd. death or glory 4   4.00   4.00   \n",
       "9   cigar city brewing maduro oatmeal brown ale - ...   4.50   5.00   \n",
       "12  samuel smith old brewery (tadcaster) organic s...   4.25   3.75   \n",
       "32           de struise brouwers pannepot reserva 244   4.50   4.50   \n",
       "35       steamworks brewing co. steam engine lager 89   3.00   3.00   \n",
       "\n",
       "                                                 text  \\\n",
       "4   4/5  rDev +3.1%look: 4 | smell: 4 | taste: 4 |...   \n",
       "9   4.67/5  rDev +14.2%look: 4 | smell: 4.5 | tast...   \n",
       "12  3.87/5  rDev +1.3%look: 3.75 | smell: 4.25 | t...   \n",
       "32  4.42/5  rDev +2.8%look: 4 | smell: 4.5 | taste...   \n",
       "35  3.28/5  rDev -3.2%look: 3.5 | smell: 3 | taste...   \n",
       "\n",
       "                                            brew_beer  review_num  \n",
       "4           tring brewery company ltd. death or glory           4  \n",
       "9   cigar city brewing maduro oatmeal brown ale - ...          67  \n",
       "12  samuel smith old brewery (tadcaster) organic s...          29  \n",
       "32               de struise brouwers pannepot reserva         244  \n",
       "35          steamworks brewing co. steam engine lager          89  "
      ]
     },
     "execution_count": 21,
     "metadata": {},
     "output_type": "execute_result"
    }
   ],
   "source": [
    "reviews_sample.head()"
   ]
  },
  {
   "cell_type": "code",
   "execution_count": 22,
   "metadata": {},
   "outputs": [
    {
     "name": "stdout",
     "output_type": "stream",
     "text": [
      "<class 'pandas.core.frame.DataFrame'>\n",
      "Int64Index: 71529 entries, 4 to 790210\n",
      "Data columns (total 11 columns):\n",
      "author        71529 non-null object\n",
      "beer          71529 non-null object\n",
      "feel          70728 non-null float64\n",
      "look          70728 non-null float64\n",
      "overall       70728 non-null float64\n",
      "review_id     71529 non-null object\n",
      "smell         70728 non-null float64\n",
      "taste         70728 non-null float64\n",
      "text          71529 non-null object\n",
      "brew_beer     71529 non-null object\n",
      "review_num    71529 non-null int64\n",
      "dtypes: float64(5), int64(1), object(5)\n",
      "memory usage: 6.5+ MB\n",
      "None\n",
      "count               71529\n",
      "unique                998\n",
      "top       two hearted ale\n",
      "freq                 3734\n",
      "Name: beer, dtype: object\n"
     ]
    }
   ],
   "source": [
    "print(reviews_sample.info())\n",
    "print(reviews_sample['beer'].describe())"
   ]
  },
  {
   "cell_type": "markdown",
   "metadata": {},
   "source": [
    "Let's reindex both of our sample dataframes. This will be useful later when we need to interpet the results of SVD and NMF. We'll keep the current index as a column. This might be useful if we need to reference the index of the full dataframe for some reason."
   ]
  },
  {
   "cell_type": "code",
   "execution_count": 25,
   "metadata": {},
   "outputs": [],
   "source": [
    "beer_sample.reset_index(inplace=True)\n",
    "reviews_sample.reset_index(inplace=True)"
   ]
  },
  {
   "cell_type": "markdown",
   "metadata": {},
   "source": [
    "## Document Cleaning"
   ]
  },
  {
   "cell_type": "code",
   "execution_count": 78,
   "metadata": {},
   "outputs": [],
   "source": [
    "documents = reviews_sample['text'].values\n",
    "documents = nlp.clean_documents(documents)"
   ]
  },
  {
   "cell_type": "markdown",
   "metadata": {},
   "source": [
    "Let's go ahead and remove the punctation and stopwords from our documents."
   ]
  },
  {
   "cell_type": "code",
   "execution_count": 79,
   "metadata": {},
   "outputs": [],
   "source": [
    "documents = nlp.strip_punc(documents)"
   ]
  },
  {
   "cell_type": "code",
   "execution_count": 80,
   "metadata": {},
   "outputs": [
    {
     "data": {
      "text/plain": [
       "'330ml bottle  best before feb 2012  cool rah-rah  britannia  machismo-laced label   this beer pour a perfectly clear dark amber hue  with one skinny finger of tight foamy off-white head  which leaves very little in the way of lace as it quickly recedes  it smells of strong toffee notes  a bit of caramel nougat  and a nice warming booziness  the taste is sweet caramel toffee treacle oriented malt  a little nutty breadiness  and a lovely seen but not heard kind of alcohol warmth  the carbonation is very innocuous  i e  nearing flatness  the body a hefty medium weight  kind of sugary  but that s a-ok for qualifying as smooth  it finishes sweet  christmas cakes and cookies  and prezzies by the hearth and all that   an enjoyable strong ale  on the malt up yer arse side  but still  nice concept  well rendered execution  and appreciation from those of us out of cask range '"
      ]
     },
     "execution_count": 80,
     "metadata": {},
     "output_type": "execute_result"
    }
   ],
   "source": [
    "documents[0]"
   ]
  },
  {
   "cell_type": "markdown",
   "metadata": {},
   "source": [
    "And, now we can stem these words."
   ]
  },
  {
   "cell_type": "code",
   "execution_count": 81,
   "metadata": {},
   "outputs": [],
   "source": [
    "documents = nlp.stem_and_rem_stopwords(documents)"
   ]
  },
  {
   "cell_type": "code",
   "execution_count": 82,
   "metadata": {},
   "outputs": [
    {
     "data": {
      "text/plain": [
       "'330ml bottle best feb 2012 cool rah-rah britannia machismo-laced label beer pour perfectly clear dark amber hue one skinny finger tight foamy off-white head leaves little way lace quickly recedes smells strong toffee notes bit caramel nougat nice warming booziness taste sweet caramel toffee treacle oriented malt little nutty breadiness lovely seen heard kind alcohol warmth carbonation innocuous e nearing flatness body hefty medium weight kind sugary a-ok qualifying smooth finishes sweet christmas cakes cookies prezzies hearth enjoyable strong ale malt yer arse side still nice concept well rendered execution appreciation us cask range'"
      ]
     },
     "execution_count": 82,
     "metadata": {},
     "output_type": "execute_result"
    }
   ],
   "source": [
    "documents[0]"
   ]
  },
  {
   "cell_type": "markdown",
   "metadata": {},
   "source": [
    "And now let's feed these documents into our tf-idf vectorizer."
   ]
  },
  {
   "cell_type": "code",
   "execution_count": 84,
   "metadata": {},
   "outputs": [],
   "source": [
    "tf_idf_vec = TfidfVectorizer()"
   ]
  },
  {
   "cell_type": "code",
   "execution_count": 85,
   "metadata": {},
   "outputs": [],
   "source": [
    "doc_term = tf_idf_vec.fit_transform(documents)"
   ]
  },
  {
   "cell_type": "code",
   "execution_count": 89,
   "metadata": {},
   "outputs": [
    {
     "data": {
      "text/plain": [
       "(71529, 55498)"
      ]
     },
     "execution_count": 89,
     "metadata": {},
     "output_type": "execute_result"
    }
   ],
   "source": [
    "doc_term.shape"
   ]
  },
  {
   "cell_type": "markdown",
   "metadata": {},
   "source": [
    "## SVD"
   ]
  },
  {
   "cell_type": "markdown",
   "metadata": {},
   "source": [
    "With our tf-idf matrix in place, we can now perform SVD on our data. We can then use this data to make an informed decision regarding the number of features to extract."
   ]
  },
  {
   "cell_type": "code",
   "execution_count": 92,
   "metadata": {},
   "outputs": [],
   "source": [
    "svd = TruncatedSVD(n_components=100)"
   ]
  },
  {
   "cell_type": "code",
   "execution_count": 93,
   "metadata": {},
   "outputs": [],
   "source": [
    "results = svd.fit_transform(doc_term)"
   ]
  },
  {
   "cell_type": "code",
   "execution_count": 96,
   "metadata": {},
   "outputs": [
    {
     "data": {
      "text/plain": [
       "(71529, 100)"
      ]
     },
     "execution_count": 96,
     "metadata": {},
     "output_type": "execute_result"
    }
   ],
   "source": [
    "results.shape"
   ]
  },
  {
   "cell_type": "code",
   "execution_count": 97,
   "metadata": {},
   "outputs": [
    {
     "data": {
      "text/plain": [
       "array([0.00419039, 0.00824071, 0.00576622, 0.00497496, 0.00427084,\n",
       "       0.0039473 , 0.00365079, 0.00330043, 0.00313077, 0.00278431,\n",
       "       0.00273174, 0.00254123, 0.00247913, 0.00237791, 0.00233153,\n",
       "       0.0022678 , 0.00223875, 0.00218901, 0.00210772, 0.00207355,\n",
       "       0.00203274, 0.00201477, 0.00196837, 0.00193752, 0.00189814,\n",
       "       0.00188055, 0.00186527, 0.00183013, 0.00181884, 0.00178658,\n",
       "       0.00176597, 0.00171488, 0.00170197, 0.00168968, 0.00167642,\n",
       "       0.00164881, 0.0016252 , 0.00160482, 0.00159668, 0.00157872,\n",
       "       0.00155344, 0.00154814, 0.00153666, 0.00152988, 0.001525  ,\n",
       "       0.00148403, 0.00148371, 0.00146271, 0.0014536 , 0.00143011,\n",
       "       0.00141832, 0.00139558, 0.00139473, 0.00137844, 0.0013693 ,\n",
       "       0.00134675, 0.00134472, 0.00133362, 0.00132972, 0.00131984,\n",
       "       0.00131328, 0.00130163, 0.00129509, 0.00128873, 0.00127623,\n",
       "       0.00126695, 0.00125882, 0.00124903, 0.00123551, 0.0012297 ,\n",
       "       0.00122141, 0.00121031, 0.00120009, 0.00119529, 0.00118806,\n",
       "       0.00118105, 0.00117306, 0.00116725, 0.00116524, 0.00115832,\n",
       "       0.00114997, 0.00114729, 0.00113366, 0.00111919, 0.00111474,\n",
       "       0.00111122, 0.00109382, 0.00108941, 0.00108562, 0.00107929,\n",
       "       0.00106082, 0.00105534, 0.0010472 , 0.00104463, 0.00102787,\n",
       "       0.00102249, 0.00101877, 0.00101231, 0.00100557, 0.0009918 ])"
      ]
     },
     "execution_count": 97,
     "metadata": {},
     "output_type": "execute_result"
    }
   ],
   "source": [
    "svd.explained_variance_ratio_"
   ]
  },
  {
   "cell_type": "code",
   "execution_count": 105,
   "metadata": {},
   "outputs": [
    {
     "data": {
      "text/plain": [
       "[<matplotlib.lines.Line2D object at 0x12c3e5160>]"
      ]
     },
     "execution_count": 105,
     "metadata": {},
     "output_type": "execute_result"
    },
    {
     "data": {
      "image/png": "[encoded data removed]",
      "text/plain": [
       "<Figure size 432x288 with 1 Axes>"
      ]
     },
     "metadata": {
      "needs_background": "light"
     },
     "output_type": "display_data"
    }
   ],
   "source": [
    "ax = plt.subplot()\n",
    "ax.plot(range(1, len(svd.explained_variance_ratio_)+1), svd.explained_variance_ratio_)"
   ]
  },
  {
   "cell_type": "code",
   "execution_count": 100,
   "metadata": {},
   "outputs": [
    {
     "data": {
      "text/plain": [
       "array([0.00400484, 0.00787582, 0.00551089, 0.00475468, 0.00408173,\n",
       "       0.00377252, 0.00348914, 0.00315429, 0.00299214, 0.00266102,\n",
       "       0.00261078, 0.00242871, 0.00236936, 0.00227262, 0.00222829,\n",
       "       0.00216738, 0.00213962, 0.00209208, 0.00201439, 0.00198174,\n",
       "       0.00194273, 0.00192556, 0.00188121, 0.00185173, 0.0018141 ,\n",
       "       0.00179729, 0.00178268, 0.00174909, 0.0017383 , 0.00170747,\n",
       "       0.00168778, 0.00163895, 0.00162661, 0.00161486, 0.00160219,\n",
       "       0.0015758 , 0.00155324, 0.00153376, 0.00152598, 0.00150882,\n",
       "       0.00148465, 0.00147959, 0.00146862, 0.00146214, 0.00145747,\n",
       "       0.00141832, 0.00141801, 0.00139794, 0.00138924, 0.00136679,\n",
       "       0.00135552, 0.00133379, 0.00133298, 0.0013174 , 0.00130867,\n",
       "       0.00128712, 0.00128517, 0.00127457, 0.00127084, 0.0012614 ,\n",
       "       0.00125513, 0.00124399, 0.00123774, 0.00123166, 0.00121972,\n",
       "       0.00121085, 0.00120308, 0.00119372, 0.0011808 , 0.00117525,\n",
       "       0.00116732, 0.00115672, 0.00114695, 0.00114236, 0.00113545,\n",
       "       0.00112876, 0.00112111, 0.00111557, 0.00111364, 0.00110703,\n",
       "       0.00109905, 0.00109649, 0.00108346, 0.00106963, 0.00106538,\n",
       "       0.00106201, 0.00104539, 0.00104118, 0.00103755, 0.0010315 ,\n",
       "       0.00101385, 0.00100861, 0.00100083, 0.00099838, 0.00098236,\n",
       "       0.00097722, 0.00097366, 0.00096748, 0.00096105, 0.00094788])"
      ]
     },
     "execution_count": 100,
     "metadata": {},
     "output_type": "execute_result"
    }
   ],
   "source": [
    "svd.explained_variance_"
   ]
  },
  {
   "cell_type": "code",
   "execution_count": null,
   "metadata": {},
   "outputs": [],
   "source": []
  }
 ],
 "metadata": {
  "kernelspec": {
   "display_name": "Python 3",
   "language": "python",
   "name": "python3"
  },
  "language_info": {
   "codemirror_mode": {
    "name": "ipython",
    "version": 3
   },
   "file_extension": ".py",
   "mimetype": "text/x-python",
   "name": "python",
   "nbconvert_exporter": "python",
   "pygments_lexer": "ipython3",
   "version": "3.7.3"
  }
 },
 "nbformat": 4,
 "nbformat_minor": 2
}
